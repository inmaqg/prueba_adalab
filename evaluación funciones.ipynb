{
 "cells": [
  {
   "cell_type": "code",
   "execution_count": 762,
   "metadata": {},
   "outputs": [],
   "source": [
    "inventario = []\n",
    "clientes = {}\n",
    "ventas_totales = 0.0"
   ]
  },
  {
   "cell_type": "code",
   "execution_count": 763,
   "metadata": {},
   "outputs": [],
   "source": [
    "# 1. Función: Agregar producto\n",
    "\n",
    "def agregar_producto(nombre, precio, cantidad):\n",
    "    producto = {\"nombre\": nombre, \"precio\": precio, \"cantidad\": cantidad}\n",
    "    for producto in inventario:\n",
    "        if producto in inventario:\n",
    "            producto[\"cantidad\"] + cantidad\n",
    "    else:\n",
    "        inventario.append(producto)"
   ]
  },
  {
   "cell_type": "code",
   "execution_count": 764,
   "metadata": {},
   "outputs": [
    {
     "name": "stdout",
     "output_type": "stream",
     "text": [
      "[{'nombre': 'camisa', 'precio': 19, 'cantidad': 2}]\n"
     ]
    }
   ],
   "source": [
    "agregar_producto(\"camisa\", 19, 2) #para ver que la función funciona, creo un producto\n",
    "print(inventario)"
   ]
  },
  {
   "cell_type": "code",
   "execution_count": 765,
   "metadata": {},
   "outputs": [],
   "source": [
    "# 2. Función: Ver inventario\n",
    "def ver_inventario():\n",
    "    for producto in inventario:\n",
    "        print(f\"Nombre: {producto['nombre']}, Precio: {producto['precio']}, Cantidad: {producto['cantidad']}\")"
   ]
  },
  {
   "cell_type": "code",
   "execution_count": 766,
   "metadata": {},
   "outputs": [
    {
     "name": "stdout",
     "output_type": "stream",
     "text": [
      "Nombre: camisa, Precio: 20, Cantidad: 50\n"
     ]
    }
   ],
   "source": [
    "inventario = [{'nombre': 'camisa', 'precio': 20, 'cantidad': 50}]\n",
    "ver_inventario()"
   ]
  },
  {
   "cell_type": "code",
   "execution_count": 767,
   "metadata": {},
   "outputs": [],
   "source": [
    "#3. Función: Buscar producto\n",
    "def buscar_producto(nombre):\n",
    "    for producto in inventario:\n",
    "        if producto[\"nombre\"] == nombre: ##compara el valor de la clave \"nombre\" con el nombre del producto\n",
    "            print(f\"Nombre: {producto['nombre']}, Precio: {producto['precio']}, Cantidad: {producto['cantidad']}\")\n",
    "        else:\n",
    "            print(f\"El producto {nombre} no está en el inventario\")"
   ]
  },
  {
   "cell_type": "code",
   "execution_count": 768,
   "metadata": {},
   "outputs": [
    {
     "name": "stdout",
     "output_type": "stream",
     "text": [
      "Nombre: camisa, Precio: 20, Cantidad: 50\n"
     ]
    }
   ],
   "source": [
    "buscar_producto(\"camisa\")"
   ]
  },
  {
   "cell_type": "code",
   "execution_count": 769,
   "metadata": {},
   "outputs": [],
   "source": [
    "#4. Función: Actualizar stock\n",
    "def actualizar_stock(nombre, cantidad):\n",
    "    for producto in inventario:\n",
    "        if producto[\"nombre\"] == nombre:\n",
    "            producto[\"cantidad\"] += cantidad #actualizar el stock, accedo a la clave\n",
    "            print(f\"El stock se ha actualizado: {producto['nombre']} ahora tiene {producto['cantidad']}\")\n",
    "        else:\n",
    "            print(f\"Ups, el producto {nombre} no está en nuestro inventario\")"
   ]
  },
  {
   "cell_type": "code",
   "execution_count": 770,
   "metadata": {},
   "outputs": [
    {
     "name": "stdout",
     "output_type": "stream",
     "text": [
      "Ups, el producto pantalón no está en nuestro inventario\n"
     ]
    }
   ],
   "source": [
    "actualizar_stock(\"pantalón\", 1)"
   ]
  },
  {
   "cell_type": "code",
   "execution_count": 771,
   "metadata": {},
   "outputs": [
    {
     "name": "stdout",
     "output_type": "stream",
     "text": [
      "El stock se ha actualizado: camisa ahora tiene 51\n"
     ]
    }
   ],
   "source": [
    "actualizar_stock(\"camisa\", 1)"
   ]
  },
  {
   "cell_type": "code",
   "execution_count": 772,
   "metadata": {},
   "outputs": [
    {
     "name": "stdout",
     "output_type": "stream",
     "text": [
      "[{'nombre': 'camisa', 'precio': 20, 'cantidad': 51}]\n"
     ]
    }
   ],
   "source": [
    "print(inventario)"
   ]
  },
  {
   "cell_type": "code",
   "execution_count": 773,
   "metadata": {},
   "outputs": [],
   "source": [
    "inventario = [{\"nombre\": \"camisa\", \"precio\": 20, \"cantidad\": 40}, {\"nombre\": \"pantalón\", \"precio\": 30, \"cantidad\": 30}, {\"nombre\": \"zapatos\", \"precio\": 50, \"cantidad\": 40}]"
   ]
  },
  {
   "cell_type": "code",
   "execution_count": 774,
   "metadata": {},
   "outputs": [],
   "source": [
    "#5. Opción 1: Función: Eliminar producto\n",
    "def eliminar_producto(nombre):\n",
    "    if len(inventario) == 0: #Si el inventario está vacío\n",
    "        print(\"No tenemos nada en el inventario\")\n",
    "    else:\n",
    "        for producto in inventario:\n",
    "            if producto[\"nombre\"] == nombre: #Si el nombre que le doy coincide con la clave \"nombre\" del diccionario... (chequear la explicación)\n",
    "                inventario.remove(producto) #Elimino el diccionario \"producto\"\n",
    "                print(f\"Se ha eliminado el producto {nombre}\")\n",
    "                break\n",
    "        else: #para otro nombre que el que le de\n",
    "            print(f\"Ups, el producto {nombre} no está en el inventario\") #Para otro producto del inventario   \n",
    "                "
   ]
  },
  {
   "cell_type": "code",
   "execution_count": 775,
   "metadata": {},
   "outputs": [
    {
     "name": "stdout",
     "output_type": "stream",
     "text": [
      "Se ha eliminado el producto camisa\n"
     ]
    }
   ],
   "source": [
    "eliminar_producto(\"camisa\") #Verifico que me avisa si no está el producto en el inventario"
   ]
  },
  {
   "cell_type": "code",
   "execution_count": 776,
   "metadata": {},
   "outputs": [
    {
     "name": "stdout",
     "output_type": "stream",
     "text": [
      "[{'nombre': 'pantalón', 'precio': 30, 'cantidad': 30}, {'nombre': 'zapatos', 'precio': 50, 'cantidad': 40}]\n"
     ]
    }
   ],
   "source": [
    "print(inventario)"
   ]
  },
  {
   "cell_type": "code",
   "execution_count": null,
   "metadata": {},
   "outputs": [],
   "source": [
    "#6. Función: Calcular valor inventario\n",
    "def calcular_valor_inventario():\n",
    "    valor_total = 0 #Creo la nueva variable para ir metiendo ahí los resultados\n",
    "    for producto in inventario: #por cada elemento del diccionario...\n",
    "        valor_producto = producto[\"cantidad\"] * producto [\"precio\"]\n",
    "        valor_total = valor_total + valor_producto\n",
    "    print(f\"El valor total del inventario es {valor_total}\")\n",
    "    return valor_total #se saca el return fuera del bucle for para que solo al final del bucle devuelva el total"
   ]
  },
  {
   "cell_type": "code",
   "execution_count": 778,
   "metadata": {},
   "outputs": [
    {
     "name": "stdout",
     "output_type": "stream",
     "text": [
      "El valor total del inventario es 2900\n"
     ]
    },
    {
     "data": {
      "text/plain": [
       "2900"
      ]
     },
     "execution_count": 778,
     "metadata": {},
     "output_type": "execute_result"
    }
   ],
   "source": [
    "calcular_valor_inventario()"
   ]
  },
  {
   "cell_type": "code",
   "execution_count": 802,
   "metadata": {},
   "outputs": [],
   "source": [
    "#7. Función: Realizar compra:\n",
    "def realizar_compra():\n",
    "    carrito_compra = [] #lo vamos a ir llenando\n",
    "    precio_total_compra = 0 \n",
    "\n",
    "    while True: #para que repita el código continuamente mientras la condición sea verdadera\n",
    "          print(inventario) #Para mostrar el inventario es lo primero qeu tiene que hacer\n",
    "          producto_seleccionado = input(\"Por favor, selecciona uno de estos dos productos: 'zapatos' o 'pantalones', y si no quieres, pulsa 'salir'\")\n",
    "          if producto_seleccionado == \"salir\":\n",
    "            break\n",
    "          else:\n",
    "              numero_productos = int(input(\"Por favor, selecciona la cantidad:\"))\n",
    "              for producto in inventario:\n",
    "                if producto_seleccionado == producto[\"nombre\"]:\n",
    "                    if producto_seleccionado[\"cantidad\"] >= numero_productos:                     \n",
    "                        print(f\"Tenemos {producto['cantidad']} uds de {producto['nombre']} disponibles a {producto['precio']} euros la unidad\")\n",
    "                    carrito_compra.append(producto_seleccionado)\n",
    "                    print(f\"Hemos añadido {producto_seleccionado} al carrito de la compra\")\n",
    "                    precio_total_compra = producto_seleccionado[\"precio\"] * numero_productos\n",
    "                else:\n",
    "                    print(f\"El producto {producto_seleccionado} no está disponible\")"
   ]
  },
  {
   "cell_type": "code",
   "execution_count": 840,
   "metadata": {},
   "outputs": [],
   "source": [
    "#7. Función: Realizar compra:\n",
    "def realizar_compra():\n",
    "    carrito_compra = {} #lo vamos a ir llenando\n",
    "    precio_total_compra = 0 \n",
    "\n",
    "    while True: #para que repita el código continuamente mientras la condición sea verdadera\n",
    "        producto_seleccionado = input(\"Por favor, selecciona un producto o pulsa 'salir'\")\n",
    "        if producto_seleccionado == \"salir\":\n",
    "            break\n",
    "        else:\n",
    "            print(inventario) #Para mostrar el inventario es lo primero qeu tiene que hacer\n",
    "            numero_productos = int(input(\"Por favor, selecciona la cantidad:\"))\n",
    "            for producto in inventario:\n",
    "                if producto_seleccionado == producto[\"nombre\"]:\n",
    "                    if producto[\"cantidad\"] >= numero_productos:                  \n",
    "                        carrito_compra.update({\"nombre\": producto_seleccionado, \"cantidad\": numero_productos})\n",
    "                        precio_total_compra = producto[\"precio\"] * numero_productos\n",
    "                        stock_actualizado = producto[\"cantidad\"] - numero_productos\n",
    "                        print(f\"La cantidad que queda de tu producto es {stock_actualizado}\")\n",
    "                        print(f\"Este es el contenido de tu carrito: {numero_productos} {producto_seleccionado} y este es el precio total {precio_total_compra}\")\n",
    "                        break\n",
    "                    else:\n",
    "                        print(\"no hay suficiente cantidad\")\n",
    "                        break"
   ]
  },
  {
   "cell_type": "code",
   "execution_count": 841,
   "metadata": {},
   "outputs": [
    {
     "name": "stdout",
     "output_type": "stream",
     "text": [
      "[{'nombre': 'pantalón', 'precio': 30, 'cantidad': 30}, {'nombre': 'zapatos', 'precio': 50, 'cantidad': 40}]\n",
      "La cantidad que queda de tu producto es 38\n",
      "Este es el contenido de tu carrito: 2 zapatos y este es el precio total 100\n"
     ]
    }
   ],
   "source": [
    "realizar_compra()"
   ]
  }
 ],
 "metadata": {
  "kernelspec": {
   "display_name": "base",
   "language": "python",
   "name": "python3"
  },
  "language_info": {
   "codemirror_mode": {
    "name": "ipython",
    "version": 3
   },
   "file_extension": ".py",
   "mimetype": "text/x-python",
   "name": "python",
   "nbconvert_exporter": "python",
   "pygments_lexer": "ipython3",
   "version": "3.11.5"
  }
 },
 "nbformat": 4,
 "nbformat_minor": 2
}
